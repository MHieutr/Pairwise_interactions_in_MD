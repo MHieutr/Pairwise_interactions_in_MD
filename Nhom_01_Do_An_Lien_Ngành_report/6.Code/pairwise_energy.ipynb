{
  "nbformat": 4,
  "nbformat_minor": 0,
  "metadata": {
    "colab": {
      "provenance": []
    },
    "kernelspec": {
      "name": "python3",
      "display_name": "Python 3"
    },
    "language_info": {
      "name": "python"
    }
  },
  "cells": [
    {
      "cell_type": "code",
      "source": [
        "!pip install pymatgen"
      ],
      "metadata": {
        "colab": {
          "base_uri": "https://localhost:8080/"
        },
        "collapsed": true,
        "id": "bIXIidhkrrC9",
        "outputId": "7a526a23-4e9b-4657-cb45-b621ccf3fed2"
      },
      "execution_count": null,
      "outputs": [
        {
          "output_type": "stream",
          "name": "stdout",
          "text": [
            "Collecting pymatgen\n",
            "  Downloading pymatgen-2024.7.18-cp310-cp310-manylinux_2_17_x86_64.manylinux2014_x86_64.whl (4.9 MB)\n",
            "\u001b[2K     \u001b[90m━━━━━━━━━━━━━━━━━━━━━━━━━━━━━━━━━━━━━━━━\u001b[0m \u001b[32m4.9/4.9 MB\u001b[0m \u001b[31m10.0 MB/s\u001b[0m eta \u001b[36m0:00:00\u001b[0m\n",
            "\u001b[?25hCollecting matplotlib>=3.8 (from pymatgen)\n",
            "  Downloading matplotlib-3.9.1-cp310-cp310-manylinux_2_17_x86_64.manylinux2014_x86_64.whl (8.3 MB)\n",
            "\u001b[2K     \u001b[90m━━━━━━━━━━━━━━━━━━━━━━━━━━━━━━━━━━━━━━━━\u001b[0m \u001b[32m8.3/8.3 MB\u001b[0m \u001b[31m17.0 MB/s\u001b[0m eta \u001b[36m0:00:00\u001b[0m\n",
            "\u001b[?25hCollecting monty>=2024.5.24 (from pymatgen)\n",
            "  Downloading monty-2024.7.12-py3-none-any.whl (67 kB)\n",
            "\u001b[2K     \u001b[90m━━━━━━━━━━━━━━━━━━━━━━━━━━━━━━━━━━━━━━━━\u001b[0m \u001b[32m67.9/67.9 kB\u001b[0m \u001b[31m3.1 MB/s\u001b[0m eta \u001b[36m0:00:00\u001b[0m\n",
            "\u001b[?25hRequirement already satisfied: networkx>=2.2 in /usr/local/lib/python3.10/dist-packages (from pymatgen) (3.3)\n",
            "Collecting palettable>=3.1.1 (from pymatgen)\n",
            "  Downloading palettable-3.3.3-py2.py3-none-any.whl (332 kB)\n",
            "\u001b[2K     \u001b[90m━━━━━━━━━━━━━━━━━━━━━━━━━━━━━━━━━━━━━━━━\u001b[0m \u001b[32m332.3/332.3 kB\u001b[0m \u001b[31m10.3 MB/s\u001b[0m eta \u001b[36m0:00:00\u001b[0m\n",
            "\u001b[?25hRequirement already satisfied: pandas>=2 in /usr/local/lib/python3.10/dist-packages (from pymatgen) (2.0.3)\n",
            "Requirement already satisfied: plotly>=4.5.0 in /usr/local/lib/python3.10/dist-packages (from pymatgen) (5.15.0)\n",
            "Collecting pybtex>=0.24.0 (from pymatgen)\n",
            "  Downloading pybtex-0.24.0-py2.py3-none-any.whl (561 kB)\n",
            "\u001b[2K     \u001b[90m━━━━━━━━━━━━━━━━━━━━━━━━━━━━━━━━━━━━━━━━\u001b[0m \u001b[32m561.4/561.4 kB\u001b[0m \u001b[31m21.3 MB/s\u001b[0m eta \u001b[36m0:00:00\u001b[0m\n",
            "\u001b[?25hCollecting requests>=2.32 (from pymatgen)\n",
            "  Downloading requests-2.32.3-py3-none-any.whl (64 kB)\n",
            "\u001b[2K     \u001b[90m━━━━━━━━━━━━━━━━━━━━━━━━━━━━━━━━━━━━━━━━\u001b[0m \u001b[32m64.9/64.9 kB\u001b[0m \u001b[31m2.6 MB/s\u001b[0m eta \u001b[36m0:00:00\u001b[0m\n",
            "\u001b[?25hCollecting ruamel.yaml>=0.17.0 (from pymatgen)\n",
            "  Downloading ruamel.yaml-0.18.6-py3-none-any.whl (117 kB)\n",
            "\u001b[2K     \u001b[90m━━━━━━━━━━━━━━━━━━━━━━━━━━━━━━━━━━━━━━━━\u001b[0m \u001b[32m117.8/117.8 kB\u001b[0m \u001b[31m2.3 MB/s\u001b[0m eta \u001b[36m0:00:00\u001b[0m\n",
            "\u001b[?25hCollecting scipy>=1.13.0 (from pymatgen)\n",
            "  Downloading scipy-1.14.0-cp310-cp310-manylinux_2_17_x86_64.manylinux2014_x86_64.whl (41.1 MB)\n",
            "\u001b[2K     \u001b[90m━━━━━━━━━━━━━━━━━━━━━━━━━━━━━━━━━━━━━━━━\u001b[0m \u001b[32m41.1/41.1 MB\u001b[0m \u001b[31m9.7 MB/s\u001b[0m eta \u001b[36m0:00:00\u001b[0m\n",
            "\u001b[?25hCollecting spglib>=2.5.0 (from pymatgen)\n",
            "  Downloading spglib-2.5.0-cp310-cp310-manylinux_2_17_x86_64.manylinux2014_x86_64.whl (1.1 MB)\n",
            "\u001b[2K     \u001b[90m━━━━━━━━━━━━━━━━━━━━━━━━━━━━━━━━━━━━━━━━\u001b[0m \u001b[32m1.1/1.1 MB\u001b[0m \u001b[31m28.4 MB/s\u001b[0m eta \u001b[36m0:00:00\u001b[0m\n",
            "\u001b[?25hRequirement already satisfied: sympy>=1.2 in /usr/local/lib/python3.10/dist-packages (from pymatgen) (1.13.0)\n",
            "Requirement already satisfied: tabulate>=0.9 in /usr/local/lib/python3.10/dist-packages (from pymatgen) (0.9.0)\n",
            "Requirement already satisfied: tqdm>=4.60 in /usr/local/lib/python3.10/dist-packages (from pymatgen) (4.66.4)\n",
            "Collecting uncertainties>=3.1.4 (from pymatgen)\n",
            "  Downloading uncertainties-3.2.2-py3-none-any.whl (58 kB)\n",
            "\u001b[2K     \u001b[90m━━━━━━━━━━━━━━━━━━━━━━━━━━━━━━━━━━━━━━━━\u001b[0m \u001b[32m58.3/58.3 kB\u001b[0m \u001b[31m6.3 MB/s\u001b[0m eta \u001b[36m0:00:00\u001b[0m\n",
            "\u001b[?25hRequirement already satisfied: joblib>=1 in /usr/local/lib/python3.10/dist-packages (from pymatgen) (1.4.2)\n",
            "Requirement already satisfied: numpy>=1.25.0 in /usr/local/lib/python3.10/dist-packages (from pymatgen) (1.25.2)\n",
            "Requirement already satisfied: contourpy>=1.0.1 in /usr/local/lib/python3.10/dist-packages (from matplotlib>=3.8->pymatgen) (1.2.1)\n",
            "Requirement already satisfied: cycler>=0.10 in /usr/local/lib/python3.10/dist-packages (from matplotlib>=3.8->pymatgen) (0.12.1)\n",
            "Requirement already satisfied: fonttools>=4.22.0 in /usr/local/lib/python3.10/dist-packages (from matplotlib>=3.8->pymatgen) (4.53.1)\n",
            "Requirement already satisfied: kiwisolver>=1.3.1 in /usr/local/lib/python3.10/dist-packages (from matplotlib>=3.8->pymatgen) (1.4.5)\n",
            "Requirement already satisfied: packaging>=20.0 in /usr/local/lib/python3.10/dist-packages (from matplotlib>=3.8->pymatgen) (24.1)\n",
            "Requirement already satisfied: pillow>=8 in /usr/local/lib/python3.10/dist-packages (from matplotlib>=3.8->pymatgen) (9.4.0)\n",
            "Requirement already satisfied: pyparsing>=2.3.1 in /usr/local/lib/python3.10/dist-packages (from matplotlib>=3.8->pymatgen) (3.1.2)\n",
            "Requirement already satisfied: python-dateutil>=2.7 in /usr/local/lib/python3.10/dist-packages (from matplotlib>=3.8->pymatgen) (2.8.2)\n",
            "Requirement already satisfied: pytz>=2020.1 in /usr/local/lib/python3.10/dist-packages (from pandas>=2->pymatgen) (2023.4)\n",
            "Requirement already satisfied: tzdata>=2022.1 in /usr/local/lib/python3.10/dist-packages (from pandas>=2->pymatgen) (2024.1)\n",
            "Requirement already satisfied: tenacity>=6.2.0 in /usr/local/lib/python3.10/dist-packages (from plotly>=4.5.0->pymatgen) (8.5.0)\n",
            "Requirement already satisfied: PyYAML>=3.01 in /usr/local/lib/python3.10/dist-packages (from pybtex>=0.24.0->pymatgen) (6.0.1)\n",
            "Collecting latexcodec>=1.0.4 (from pybtex>=0.24.0->pymatgen)\n",
            "  Downloading latexcodec-3.0.0-py3-none-any.whl (18 kB)\n",
            "Requirement already satisfied: six in /usr/local/lib/python3.10/dist-packages (from pybtex>=0.24.0->pymatgen) (1.16.0)\n",
            "Requirement already satisfied: charset-normalizer<4,>=2 in /usr/local/lib/python3.10/dist-packages (from requests>=2.32->pymatgen) (3.3.2)\n",
            "Requirement already satisfied: idna<4,>=2.5 in /usr/local/lib/python3.10/dist-packages (from requests>=2.32->pymatgen) (3.7)\n",
            "Requirement already satisfied: urllib3<3,>=1.21.1 in /usr/local/lib/python3.10/dist-packages (from requests>=2.32->pymatgen) (2.0.7)\n",
            "Requirement already satisfied: certifi>=2017.4.17 in /usr/local/lib/python3.10/dist-packages (from requests>=2.32->pymatgen) (2024.7.4)\n",
            "Collecting ruamel.yaml.clib>=0.2.7 (from ruamel.yaml>=0.17.0->pymatgen)\n",
            "  Downloading ruamel.yaml.clib-0.2.8-cp310-cp310-manylinux_2_17_x86_64.manylinux2014_x86_64.manylinux_2_24_x86_64.whl (526 kB)\n",
            "\u001b[2K     \u001b[90m━━━━━━━━━━━━━━━━━━━━━━━━━━━━━━━━━━━━━━━━\u001b[0m \u001b[32m526.7/526.7 kB\u001b[0m \u001b[31m32.4 MB/s\u001b[0m eta \u001b[36m0:00:00\u001b[0m\n",
            "\u001b[?25hRequirement already satisfied: mpmath<1.4,>=1.1.0 in /usr/local/lib/python3.10/dist-packages (from sympy>=1.2->pymatgen) (1.3.0)\n",
            "Installing collected packages: uncertainties, spglib, scipy, ruamel.yaml.clib, requests, palettable, monty, latexcodec, ruamel.yaml, pybtex, matplotlib, pymatgen\n",
            "  Attempting uninstall: scipy\n",
            "    Found existing installation: scipy 1.11.4\n",
            "    Uninstalling scipy-1.11.4:\n",
            "      Successfully uninstalled scipy-1.11.4\n",
            "  Attempting uninstall: requests\n",
            "    Found existing installation: requests 2.31.0\n",
            "    Uninstalling requests-2.31.0:\n",
            "      Successfully uninstalled requests-2.31.0\n",
            "  Attempting uninstall: matplotlib\n",
            "    Found existing installation: matplotlib 3.7.1\n",
            "    Uninstalling matplotlib-3.7.1:\n",
            "      Successfully uninstalled matplotlib-3.7.1\n",
            "\u001b[31mERROR: pip's dependency resolver does not currently take into account all the packages that are installed. This behaviour is the source of the following dependency conflicts.\n",
            "google-colab 1.0.0 requires requests==2.31.0, but you have requests 2.32.3 which is incompatible.\u001b[0m\u001b[31m\n",
            "\u001b[0mSuccessfully installed latexcodec-3.0.0 matplotlib-3.9.1 monty-2024.7.12 palettable-3.3.3 pybtex-0.24.0 pymatgen-2024.7.18 requests-2.32.3 ruamel.yaml-0.18.6 ruamel.yaml.clib-0.2.8 scipy-1.14.0 spglib-2.5.0 uncertainties-3.2.2\n"
          ]
        }
      ]
    },
    {
      "cell_type": "code",
      "source": [
        "def read_xyz_md(name):\n",
        "    \"\"\"\n",
        "    Read xyz file:\n",
        "        first line number of atoms\n",
        "        second line: first 9 column is 3 unit cell vector, the last column is energy\n",
        "    :param name:\n",
        "    :return: a list of cell vectors, coords, atoms, and energies\n",
        "    \"\"\"\n",
        "    f = open(name)\n",
        "\n",
        "    i = 1  #line index\n",
        "    m = 0  #frame index\n",
        "\n",
        "    cells = []\n",
        "    coords = []\n",
        "    atoms = []\n",
        "    energies = []\n",
        "\n",
        "    atom = []\n",
        "    cell = []\n",
        "    coord = []\n",
        "\n",
        "    nAtom = int(f.readline().split()[0])\n",
        "    for line in f.readlines():\n",
        "        line = line.split()\n",
        "\n",
        "        if (m + 1 < i) and (i < m + nAtom + 2):\n",
        "            atom.append(line[0])\n",
        "            coord.append([float(line[1]), float(line[2]), float(line[3])])\n",
        "\n",
        "        if i == m + 1:\n",
        "            cell = np.array([float(x) for x in line[:-1]]).reshape(3, 3)\n",
        "            if len(line) == 10:\n",
        "                energies.append(float(line[-1]))\n",
        "            else:\n",
        "                energies.append(0.0)\n",
        "\n",
        "        if len(line) == 1 and line[0] == str(nAtom):  # start new frame\n",
        "            if len(cell) > 1:\n",
        "                cells.append(cell)\n",
        "                coords.append(coord)\n",
        "                atoms.append(atom)\n",
        "            atom = []\n",
        "            cell = []\n",
        "            coord = []\n",
        "            m = i  # increase one frame\n",
        "        i += 1\n",
        "    f.close()\n",
        "    cells.append(cell)\n",
        "    coords.append(coord)\n",
        "    atoms.append(atom)\n",
        "    return cells, coords, atoms, energies"
      ],
      "metadata": {
        "id": "pWDEg8-X-BpG"
      },
      "execution_count": null,
      "outputs": []
    },
    {
      "cell_type": "code",
      "execution_count": null,
      "metadata": {
        "id": "vBTUOD2GpWHr"
      },
      "outputs": [],
      "source": [
        "from pymatgen.core  import Structure, Element\n",
        "from sklearn.model_selection import train_test_split\n",
        "from multiprocessing import Pool\n",
        "import numpy as np\n",
        "from sklearn.linear_model import Ridge, LinearRegression\n",
        "from matplotlib import pyplot as plt\n",
        "import tensorflow\n",
        "import tensorflow.keras.backend as K\n",
        "import numpy as np\n",
        "from sklearn.model_selection import train_test_split\n",
        "from multiprocessing import Pool\n",
        "# from pymatgen import Structure\n",
        "from tensorflow.keras.models import Model, load_model, Sequential\n",
        "from tensorflow.keras.layers import Input, Add, Activation, Dropout, BatchNormalization, Conv1D, Conv2D, Concatenate, Dense, Flatten\n",
        "from tensorflow.keras import regularizers\n",
        "from tensorflow.keras.layers import Lambda\n",
        "from tensorflow.keras.utils import Sequence\n",
        "from matplotlib import pyplot as plt\n",
        "import pymatgen as pm\n",
        "from tensorflow.keras.layers import Multiply\n",
        "from tensorflow.python.ops import math_ops\n",
        "from tensorflow.python.framework import ops\n",
        "# from read_xyz import read_xyz_md\n",
        "\n",
        "cells, coords, atoms, energies = read_xyz_md('/content/drive/MyDrive/Colab Notebooks/Pairwise_data/2000K_rand.xyz')\n",
        "X = np.load('/content/drive/MyDrive/Colab Notebooks/Pairwise_data/X.npy', allow_pickle = True)\n",
        "\n",
        "energies = np.array(energies)\n",
        "m = energies.mean()\n",
        "Y = (energies - m) * (27.2116 * 0.5)\n",
        "X = np.array(X)\n",
        "\n",
        "X_train, X_test, y_train, y_test = train_test_split(X, Y, test_size=0.25, random_state=0)\n",
        "\n",
        "class Generator(Sequence):\n",
        "    \"\"\"Pairs for compare images\n",
        "    This will create batch_size examples of positive examples and that of negative examples\n",
        "    \"\"\"\n",
        "    def __init__(self, X, y, batch_size = 32, shuffle = True):\n",
        "        \"\"\"\n",
        "        :param X: list of images\n",
        "        :parm y: labels of images\n",
        "        :param batch_size:\n",
        "        :param shuffle:\n",
        "        \"\"\"\n",
        "        self.X = X\n",
        "        self.y = y\n",
        "        self.batch_size = batch_size\n",
        "        self.shuffle = shuffle\n",
        "        self.indexes = np.arange(X.shape[0])\n",
        "        self.on_epoch_end()\n",
        "\n",
        "    def __len__(self):\n",
        "        \"\"\"Denotes the number of batches per epoch\"\"\"\n",
        "        return int(np.floor(len(self.indexes) / self.batch_size))\n",
        "\n",
        "    def __getitem__(self, index):\n",
        "        \"\"\"\n",
        "        Generate one batch of data\n",
        "        \"\"\"\n",
        "        # Generate indexes of the batch\n",
        "        indexes = self.indexes[index * self.batch_size: (index + 1) * self.batch_size]\n",
        "        X_train = self.X[indexes, :, :, :]\n",
        "        y_train = self.y[indexes]\n",
        "        return X_train, y_train\n",
        "\n",
        "    def on_epoch_end(self):\n",
        "        \"\"\"Updates indexes after each epoch\"\"\"\n",
        "        if self.shuffle == True:\n",
        "            np.random.shuffle(self.indexes)\n",
        "\n",
        "\n",
        "\n"
      ]
    },
    {
      "cell_type": "code",
      "source": [
        "X.shape"
      ],
      "metadata": {
        "id": "SB6P9U0g3dUk",
        "outputId": "db61fb7e-77fb-4543-b3bc-aa8de03d5ad2",
        "colab": {
          "base_uri": "https://localhost:8080/"
        }
      },
      "execution_count": null,
      "outputs": [
        {
          "output_type": "execute_result",
          "data": {
            "text/plain": [
              "(2500, 64, 120, 2)"
            ]
          },
          "metadata": {},
          "execution_count": 7
        }
      ]
    },
    {
      "cell_type": "code",
      "source": [
        "print(X_train.shape)\n",
        "print(y_train.shape)\n",
        "print(X_test.shape)\n",
        "print(y_test.shape)\n"
      ],
      "metadata": {
        "colab": {
          "base_uri": "https://localhost:8080/"
        },
        "id": "zCcmD5xyyQeV",
        "outputId": "aa5c4fcf-404c-4444-b949-3723de524c35"
      },
      "execution_count": null,
      "outputs": [
        {
          "output_type": "stream",
          "name": "stdout",
          "text": [
            "(1250, 64, 120, 2)\n",
            "(1250,)\n",
            "(1250, 64, 120, 2)\n",
            "(1250,)\n"
          ]
        }
      ]
    },
    {
      "cell_type": "code",
      "source": [
        "def rmse(y_true, y_pred):\n",
        "    return K.sqrt(K.mean(K.square(y_pred - y_true)))"
      ],
      "metadata": {
        "id": "ifwc0JQvFrOT"
      },
      "execution_count": null,
      "outputs": []
    },
    {
      "cell_type": "code",
      "source": [
        "train_generator = Generator(X = X_train, y = y_train, batch_size = 16)\n",
        "test_generator = Generator(X = X_test, y = y_test, batch_size = 16)\n",
        "\n",
        "def atomic_feature(x):\n",
        "    return K.sum(x, axis = -2)\n",
        "\n",
        "def energy_pool(x):\n",
        "    return K.sum(x, axis = 1)\n",
        "\n",
        "INPUT_SHAPE = [64, 120, 2]\n",
        "P_DROPOUT = 0\n",
        "L2 = 0.0001\n",
        "inp = Input(shape = INPUT_SHAPE)\n",
        "\n",
        "\n",
        "x = Conv2D(filters = 128,\n",
        "           kernel_size = (1, 1),\n",
        "           padding = 'same',\n",
        "           kernel_regularizer = regularizers.l2(L2))(inp)\n",
        "#x = BatchNormalization()(x)\n",
        "x = Activation('relu')(x)\n",
        "x = Dropout(P_DROPOUT)(x)\n",
        "\n",
        "x = Conv2D(filters = 128,\n",
        "           kernel_size = (1, 1),\n",
        "           padding = 'same',\n",
        "           kernel_regularizer = regularizers.l2(L2))(x)\n",
        "#x = BatchNormalization()(x)\n",
        "x = Activation('relu')(x)\n",
        "x = Dropout(P_DROPOUT)(x)\n",
        "\n",
        "x = Conv2D(filters = 128,\n",
        "           kernel_size = (1, 1),\n",
        "           padding = 'same',\n",
        "           kernel_regularizer = regularizers.l2(L2))(x)\n",
        "#x = BatchNormalization()(x)\n",
        "x = Activation('relu')(x)\n",
        "x = Dropout(P_DROPOUT)(x)\n",
        "\n",
        "x = atomic_feature(x)\n",
        "\n",
        "x = Conv1D(filters = 128,\n",
        "           kernel_size = 1,\n",
        "           padding = 'same',\n",
        "           kernel_regularizer = regularizers.l2(L2))(x)\n",
        "#x = BatchNormalization()(x)\n",
        "x = Activation('relu')(x)\n",
        "x = Dropout(P_DROPOUT)(x)\n",
        "\n",
        "x = Conv1D(filters = 128,\n",
        "           kernel_size = 1,\n",
        "           padding = 'same',\n",
        "           kernel_regularizer = regularizers.l2(L2))(x)\n",
        "#x = BatchNormalization()(x)\n",
        "x = Activation('relu')(x)\n",
        "x = Dropout(P_DROPOUT)(x)\n",
        "\n",
        "x = Conv1D(filters = 128,\n",
        "           kernel_size = 1,\n",
        "           padding = 'same',\n",
        "           kernel_regularizer = regularizers.l2(L2))(x)\n",
        "#x = BatchNormalization()(x)\n",
        "x = Activation('relu')(x)\n",
        "x = Dropout(P_DROPOUT)(x)\n",
        "\n",
        "x = Conv1D(filters = 128,\n",
        "           kernel_size = 1,\n",
        "           padding = 'same',\n",
        "           kernel_regularizer = regularizers.l2(L2))(x)\n",
        "#x = BatchNormalization()(x)\n",
        "x = Activation('relu')(x)\n",
        "x = Dropout(P_DROPOUT)(x)\n",
        "\n",
        "x = Conv1D(filters = 128,\n",
        "           kernel_size = 1,\n",
        "           padding = 'same',\n",
        "           kernel_regularizer = regularizers.l2(L2))(x)\n",
        "#x = BatchNormalization()(x)\n",
        "x = Activation('relu')(x)\n",
        "x = Dropout(P_DROPOUT)(x)\n",
        "\n",
        "x = Conv1D(filters = 1,\n",
        "           kernel_size = 1,\n",
        "           padding = 'same',\n",
        "           kernel_regularizer = regularizers.l2(L2))(x)\n",
        "#x = BatchNormalization()(x)\n",
        "x = Activation('linear')(x)\n",
        "x = Dropout(P_DROPOUT)(x)\n",
        "\n",
        "y = energy_pool(x)\n",
        "\n",
        "model = Model(inputs = inp, outputs = y)\n",
        "optimizer = tensorflow.keras.optimizers.Adam(learning_rate = 0.00005)\n",
        "model.compile(optimizer = optimizer,\n",
        "              loss = 'mse',\n",
        "              metrics = ['mse', rmse, 'mae'])\n",
        "\n",
        "model.fit_generator(generator = train_generator,\n",
        "                    validation_data = test_generator, epochs = 2500)"
      ],
      "metadata": {
        "id": "e-SkV6J-9V96"
      },
      "execution_count": null,
      "outputs": []
    },
    {
      "cell_type": "code",
      "source": [
        "import matplotlib.pyplot as plt\n",
        "\n",
        "loss = model.history['loss']\n",
        "val_loss = model.history['val_loss']\n",
        "\n",
        "plt.figure()\n",
        "plt.plot(loss, label='Training Loss')\n",
        "plt.plot(val_loss, label='Validation Loss')\n",
        "plt.title('Model Loss vs. Epoch', fontweight= 'bold')\n",
        "plt.xlabel('Epoch', fontweight= 'bold')\n",
        "plt.ylabel('Loss', fontweight= 'bold')\n",
        "plt.legend()\n",
        "plt.savefig(\"loss-epoch-energy.png\")\n",
        "plt.show()"
      ],
      "metadata": {
        "id": "Xy1o8YCFCkOY"
      },
      "execution_count": null,
      "outputs": []
    },
    {
      "cell_type": "code",
      "source": [
        "def plot(model, X_test, y_test, name):\n",
        "  y_pred_test = model.predict(X_test)\n",
        "  plt.scatter(y_test, y_pred_test, s = 1)\n",
        "  plt.xlabel('DFT forces', fontweight= 'bold')\n",
        "  plt.ylabel('Predeicted forces', fontweight= 'bold')\n",
        "  plt.title('Test set', fontweight= 'bold')\n",
        "\n",
        "  plt.tight_layout()\n",
        "  plt.savefig(f\"{name}.png\")\n",
        "  plt.show()"
      ],
      "metadata": {
        "id": "fH-Fbma3CyxO"
      },
      "execution_count": null,
      "outputs": []
    },
    {
      "cell_type": "code",
      "source": [
        "plot(model, X_test, y_test, 'energy')"
      ],
      "metadata": {
        "id": "liFoRdtlC2L5"
      },
      "execution_count": null,
      "outputs": []
    }
  ]
}